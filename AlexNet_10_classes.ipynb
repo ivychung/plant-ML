{
  "cells": [
    {
      "cell_type": "markdown",
      "metadata": {
        "id": "view-in-github",
        "colab_type": "text"
      },
      "source": [
        "<a href=\"https://colab.research.google.com/github/ivychung/plant-ML/blob/anoushka-alexnet-implementation/AlexNet_10_classes.ipynb\" target=\"_parent\"><img src=\"https://colab.research.google.com/assets/colab-badge.svg\" alt=\"Open In Colab\"/></a>"
      ]
    },
    {
      "cell_type": "code",
      "execution_count": 1,
      "metadata": {
        "id": "i7DGKJClCcEl"
      },
      "outputs": [],
      "source": [
        "# ========================================\n",
        "# File Name : tomato_10_classes.ipynb\n",
        "#\n",
        "# Creation Date : Feburary 22, 2022\n",
        "#\n",
        "# Created By : Ivy Chung and Anoushka Gupta\n",
        "# ========================================\n",
        "\n",
        "\"\"\"Initializing required libraries\"\"\"\n",
        "\n",
        "# so that we can mount google drive\n",
        "from google.colab import drive\n",
        "\n",
        "# numerical computation and visualization\n",
        "import matplotlib.pyplot as plt\n",
        "import seaborn as sns\n",
        "import numpy as np\n",
        "import pandas as pd\n",
        "import gc # garbage collector to free objects on demand\n",
        "\n",
        "# file manipulation\n",
        "import zipfile\n",
        "import os\n",
        "import shutil\n",
        "\n",
        "# load and show an image with Pillow\n",
        "from PIL import Image\n",
        "\n",
        "# load and display an image with Matplotlib\n",
        "%matplotlib inline\n",
        "from matplotlib import image\n",
        "from matplotlib import pyplot\n",
        "from numpy import asarray\n",
        "\n",
        "# sklearn tools\n",
        "from sklearn.model_selection import train_test_split\n",
        "from sklearn.preprocessing import LabelEncoder\n",
        "from sklearn.model_selection import KFold, StratifiedKFold\n",
        "\n",
        "# tensorflow tools\n",
        "from tensorflow import keras\n",
        "import tensorflow as tf\n",
        "from tensorflow.keras.layers import *\n",
        "from tensorflow.keras.callbacks import EarlyStopping, ModelCheckpoint\n",
        "\n",
        "# other\n",
        "import cv2\n",
        "\n",
        "from tensorflow.keras import backend as K\n",
        "from tensorflow.keras import applications\n",
        "from tensorflow.keras import optimizers\n",
        "from sklearn.metrics import accuracy_score"
      ]
    },
    {
      "cell_type": "code",
      "execution_count": 2,
      "metadata": {
        "colab": {
          "base_uri": "https://localhost:8080/"
        },
        "id": "9JF7NOkVvH71",
        "outputId": "33013ad4-d661-4a16-e2bf-acd46bff4b2a"
      },
      "outputs": [
        {
          "output_type": "stream",
          "name": "stdout",
          "text": [
            "Drive already mounted at /content/drive; to attempt to forcibly remount, call drive.mount(\"/content/drive\", force_remount=True).\n"
          ]
        }
      ],
      "source": [
        "drive.mount('/content/drive')"
      ]
    },
    {
      "cell_type": "code",
      "execution_count": 3,
      "metadata": {
        "id": "A5mBE4NjAkFU"
      },
      "outputs": [],
      "source": [
        "# Extract the dataset zip file\n",
        "dataset_name = 'PlantVillage'\n",
        "drive_dataset_address = '/content/drive/Shareddrives/Anoushka && Ivy/Senior Design 2021_2022_Ivy and Anoushka/dataset/'\n",
        "working_dataset_address = os.path.join('/tmp/', dataset_name)\n",
        "\n",
        "zip_ref = zipfile.ZipFile(drive_dataset_address + dataset_name + '.zip', 'r')\n",
        "zip_ref.extractall('/tmp/') # Extracts the files into the appropriate folder\n",
        "zip_ref.close()"
      ]
    },
    {
      "cell_type": "code",
      "execution_count": 4,
      "metadata": {
        "id": "45lWHk9DzUN0"
      },
      "outputs": [],
      "source": [
        "# Removes the __MACOSX file that comes with zipping a file on Mac\n",
        "try:\n",
        "  shutil.rmtree('/tmp/__MACOSX')\n",
        "except:\n",
        "  pass"
      ]
    },
    {
      "cell_type": "code",
      "execution_count": 5,
      "metadata": {
        "id": "IhG-GP9-wtZe"
      },
      "outputs": [],
      "source": [
        "# Function to extract all sub- file/directory names\n",
        "def read_filenames(dir_path, file_bool = True):\n",
        "  if file_bool: # list all files in the folder\n",
        "    return [f for f in os.listdir(dir_path) \\\n",
        "            if os.path.isfile(os.path.join(dir_path, f))]\n",
        "  if not file_bool: # list all subfolders in the folder\n",
        "    return [f for f in os.listdir(dir_path) \\\n",
        "            if os.path.isdir(os.path.join(dir_path, f))]\n"
      ]
    },
    {
      "cell_type": "code",
      "execution_count": 6,
      "metadata": {
        "colab": {
          "base_uri": "https://localhost:8080/"
        },
        "id": "fTorRSNeHSBI",
        "outputId": "9f65bd05-f9cc-4ec3-9b6c-cfa397db67bb"
      },
      "outputs": [
        {
          "output_type": "execute_result",
          "data": {
            "text/plain": [
              "['Tomato_Bacterial_spot',\n",
              " 'Tomato_Spider_mites_Two_spotted_spider_mite',\n",
              " 'Tomato_Septoria_leaf_spot',\n",
              " 'Tomato__Tomato_YellowLeaf__Curl_Virus',\n",
              " 'Tomato_Late_blight',\n",
              " 'Tomato__Tomato_mosaic_virus',\n",
              " 'Tomato_Leaf_Mold',\n",
              " 'Tomato_healthy',\n",
              " 'Tomato_Early_blight',\n",
              " 'Tomato__Target_Spot']"
            ]
          },
          "metadata": {},
          "execution_count": 6
        }
      ],
      "source": [
        "# getting classes\n",
        "classes = read_filenames(working_dataset_address,file_bool = False)\n",
        "\n",
        "# global variables to keep track of how many classes we have\n",
        "CLASS_SIZE = len(classes)\n",
        "\n",
        "classes"
      ]
    },
    {
      "cell_type": "code",
      "execution_count": 7,
      "metadata": {
        "colab": {
          "base_uri": "https://localhost:8080/"
        },
        "id": "Os7EWPegSU08",
        "outputId": "4f3dda7c-9f78-4ad2-bc54-3834229be0cc"
      },
      "outputs": [
        {
          "output_type": "stream",
          "name": "stdout",
          "text": [
            "Row Length 10\n",
            "Column length [2127, 1676, 1771, 3209, 1909, 373, 952, 1591, 1000, 1404]\n"
          ]
        }
      ],
      "source": [
        "# Collect all image names\n",
        "img_names = [read_filenames(os.path.join(working_dataset_address, classes[i])) for i in range(CLASS_SIZE)]\n",
        "\n",
        "# Row length should be the number of classes\n",
        "print(\"Row Length\", len(img_names))\n",
        "\n",
        "# collect each column length\n",
        "row_lengths = []\n",
        "for i in range(CLASS_SIZE):\n",
        "  row_lengths.append(len(img_names[i]))\n",
        "\n",
        "print(\"Column length\", row_lengths)"
      ]
    },
    {
      "cell_type": "code",
      "execution_count": 8,
      "metadata": {
        "colab": {
          "base_uri": "https://localhost:8080/",
          "height": 465
        },
        "id": "6nzO3latwVKN",
        "outputId": "7b965ae1-fff7-4cf9-abf9-06a0738d66d2"
      },
      "outputs": [
        {
          "output_type": "stream",
          "name": "stdout",
          "text": [
            "Original image details\n",
            "JPEG\n",
            "(256, 256)\n",
            "RGB\n",
            "\n",
            "Image in pixel values\n",
            "<class 'numpy.ndarray'>\n",
            "(256, 256, 3) \n",
            "\n"
          ]
        },
        {
          "output_type": "display_data",
          "data": {
            "text/plain": [
              "<Figure size 432x288 with 1 Axes>"
            ],
            "image/png": "[encoded data removed]"
          },
          "metadata": {
            "needs_background": "light"
          }
        },
        {
          "output_type": "stream",
          "name": "stdout",
          "text": [
            "\n",
            "Tomato_Bacterial_spot\n"
          ]
        }
      ],
      "source": [
        "# checking image processing with one image\n",
        "img_path = os.path.join(working_dataset_address, classes[0], img_names[0][1])\n",
        "\n",
        "# reading the image\n",
        "image = Image.open(img_path)\n",
        "\n",
        "# summarize original image details\n",
        "print(\"Original image details\")\n",
        "print(image.format)\n",
        "print(image.size)\n",
        "print(image.mode)\n",
        "\n",
        "# convert image to numpy array of pixel values\n",
        "data = asarray(image)\n",
        "\n",
        "# summarize converted image details\n",
        "print(\"\\nImage in pixel values\")\n",
        "print(type(data))\n",
        "print(data.shape, \"\\n\")\n",
        "\n",
        "plt.imshow(data)\n",
        "plt.show()\n",
        "print(\"\\n\" + classes[0])"
      ]
    },
    {
      "cell_type": "code",
      "execution_count": 9,
      "metadata": {
        "colab": {
          "base_uri": "https://localhost:8080/"
        },
        "id": "HQmIgQh-q7HN",
        "outputId": "b41087d8-9441-461d-9261-3b2f23ce81e5"
      },
      "outputs": [
        {
          "output_type": "stream",
          "name": "stdout",
          "text": [
            "Total image count: 16011\n"
          ]
        }
      ],
      "source": [
        "# making a np array of the images in pixel values\n",
        "x = []\n",
        "y = []\n",
        "\n",
        "for i in range(CLASS_SIZE):\n",
        "  for j in range(len(img_names[i])):\n",
        "    img_path = os.path.join(working_dataset_address, classes[i], img_names[i][j])\n",
        "    try:\n",
        "      img = Image.open(img_path)\n",
        "      data = asarray(img) # convert image to numpy array\n",
        "      x.append(data)\n",
        "      y.append(classes[i])\n",
        "    except:\n",
        "      pass\n",
        "\n",
        "image_count = len(x)\n",
        "print(\"Total image count:\", image_count)\n",
        "x = np.asarray(x)\n",
        "y = np.asarray(y)"
      ]
    },
    {
      "cell_type": "code",
      "source": [
        "# convert our data vectors to the desired format\n",
        "# Our x data vectors are four-dimensional, just as we wanted\n",
        "\n",
        "# convert the labels be to int-encoded \n",
        "label_encoder = LabelEncoder()\n",
        "\n",
        "# function to convert y data vectors int encoded class matrices\n",
        "def convert_to_categorical(y_train, y_test, oneHot = True, makeArray = False):\n",
        "  y_train = label_encoder.fit_transform(y_train)\n",
        "  y_test = label_encoder.fit_transform(y_test)\n",
        "  \n",
        "  if oneHot:\n",
        "    y_train = keras.utils.to_categorical(y_train, CLASS_SIZE)\n",
        "    y_test = keras.utils.to_categorical(y_test, CLASS_SIZE)\n",
        "\n",
        "  if makeArray:\n",
        "    y_train = np.array([np.array([y]) for y in y_train])\n",
        "    y_test = np.array([np.array([y]) for y in y_test])\n",
        "  \n",
        "  return y_train, y_test"
      ],
      "metadata": {
        "id": "yyEnDwyK5iPK"
      },
      "execution_count": 10,
      "outputs": []
    },
    {
      "cell_type": "code",
      "execution_count": 11,
      "metadata": {
        "id": "TWMIF603ONHp"
      },
      "outputs": [],
      "source": [
        "# Now we need to split the data into a training and a validating dataset\n",
        "x_train, x_test, y_train, y_test = train_test_split(x, y,\n",
        "    test_size=0.2, shuffle = True, random_state = 8)\n",
        "\n",
        "# convert the label formatting\n",
        "y_train, y_test = convert_to_categorical(y_train, y_test, False, True)"
      ]
    },
    {
      "cell_type": "code",
      "source": [
        "print(type(y_train))\n",
        "print(type(y_train[0]))\n",
        "print(y_train[0].shape)\n",
        "print(y_train[0])"
      ],
      "metadata": {
        "colab": {
          "base_uri": "https://localhost:8080/"
        },
        "id": "Tg_QY-fs6Jqi",
        "outputId": "cccdfb64-7f78-4b7e-febe-dc85f3564f8e"
      },
      "execution_count": 12,
      "outputs": [
        {
          "output_type": "stream",
          "name": "stdout",
          "text": [
            "<class 'numpy.ndarray'>\n",
            "<class 'numpy.ndarray'>\n",
            "(1,)\n",
            "[0]\n"
          ]
        }
      ]
    },
    {
      "cell_type": "code",
      "execution_count": 13,
      "metadata": {
        "colab": {
          "base_uri": "https://localhost:8080/"
        },
        "id": "TvGlIbPwNqEP",
        "outputId": "af61e294-5bef-4842-d1a4-0f9646cb5884"
      },
      "outputs": [
        {
          "output_type": "stream",
          "name": "stdout",
          "text": [
            "x_train shape: (12808, 256, 256, 3)\n",
            "x_test shape: (3203, 256, 256, 3)\n",
            "y_train shape: (12808, 1)\n",
            "y_test shape: (3203, 1)\n"
          ]
        }
      ],
      "source": [
        "# check our final shape\n",
        "print(\"x_train shape:\", x_train.shape)\n",
        "print(\"x_test shape:\", x_test.shape)\n",
        "print(\"y_train shape:\", y_train.shape)\n",
        "print(\"y_test shape:\", y_test.shape)"
      ]
    },
    {
      "cell_type": "code",
      "execution_count": 14,
      "metadata": {
        "id": "G7Bs7psOxXv5"
      },
      "outputs": [],
      "source": [
        "# takes the train, test, and validation dataset partitions and returns a corresponding TensorFlow Dataset representation\n",
        "train_ds=tf.data.Dataset.from_tensor_slices((x_train,y_train))\n",
        "test_ds=tf.data.Dataset.from_tensor_slices((x_test,y_test))"
      ]
    },
    {
      "cell_type": "code",
      "source": [
        "image_size = 256\n",
        "# function to preprocess image\n",
        "def process_image(image,label):\n",
        "    image=tf.image.per_image_standardization(image)\n",
        "    image=tf.image.resize(image,(image_size,image_size))\n",
        "    \n",
        "    return image,label"
      ],
      "metadata": {
        "id": "6Ew0pEp4WuGv"
      },
      "execution_count": 15,
      "outputs": []
    },
    {
      "cell_type": "code",
      "execution_count": 16,
      "metadata": {
        "colab": {
          "base_uri": "https://localhost:8080/"
        },
        "id": "BbPbIQQg1jLW",
        "outputId": "f1c4dd87-275f-4639-f1af-29d3fefda76a"
      },
      "outputs": [
        {
          "output_type": "stream",
          "name": "stdout",
          "text": [
            "Train size: 12808\n",
            "Test size: 3203\n"
          ]
        }
      ],
      "source": [
        "# input pipeline\n",
        "train_ds_size=tf.data.experimental.cardinality(train_ds).numpy()\n",
        "test_ds_size=tf.data.experimental.cardinality(test_ds).numpy()\n",
        "print('Train size:',train_ds_size)\n",
        "print('Test size:',test_ds_size)"
      ]
    },
    {
      "cell_type": "code",
      "source": [
        "train_ds=(train_ds\n",
        "          .map(process_image)\n",
        "          .shuffle(buffer_size=train_ds_size)\n",
        "          .batch(batch_size=32,drop_remainder=True)\n",
        "         )\n",
        "test_ds=(test_ds\n",
        "          .map(process_image)\n",
        "          .shuffle(buffer_size=test_ds_size)\n",
        "          .batch(batch_size=32,drop_remainder=True)\n",
        "         )"
      ],
      "metadata": {
        "id": "h_Ku6zFPwUoF"
      },
      "execution_count": 17,
      "outputs": []
    },
    {
      "cell_type": "code",
      "execution_count": 18,
      "metadata": {
        "id": "JGQRV29w2cAA"
      },
      "outputs": [],
      "source": [
        "AlexNet_model=keras.models.Sequential([\n",
        "  keras.layers.Conv2D(filters=96, kernel_size=(11,11), strides=(4,4), activation='relu', input_shape=(image_size,image_size,3)),\n",
        "  keras.layers.BatchNormalization(),\n",
        "\n",
        "  keras.layers.MaxPool2D(pool_size=(3,3), strides=(2,2)),\n",
        "  keras.layers.Conv2D(filters=256, kernel_size=(5,5), strides=(1,1), activation='relu', padding=\"same\"),\n",
        "  keras.layers.BatchNormalization(),\n",
        "\n",
        "  keras.layers.MaxPool2D(pool_size=(3,3), strides=(2,2)),\n",
        "  keras.layers.Conv2D(filters=384, kernel_size=(3,3), strides=(1,1), activation='relu', padding=\"same\"),\n",
        "  keras.layers.BatchNormalization(),\n",
        "\n",
        "  keras.layers.Conv2D(filters=384, kernel_size=(3,3), strides=(1,1), activation='relu', padding=\"same\"),\n",
        "  keras.layers.BatchNormalization(),\n",
        "\n",
        "  keras.layers.Conv2D(filters=256, kernel_size=(3,3), strides=(1,1), activation='relu', padding=\"same\"),\n",
        "  keras.layers.BatchNormalization(),\n",
        "\n",
        "  keras.layers.MaxPool2D(pool_size=(3,3), strides=(2,2)),\n",
        "  keras.layers.Flatten(),\n",
        "  keras.layers.Dense(4096,activation='relu'),\n",
        "  keras.layers.Dropout(0.5),\n",
        "  keras.layers.Dense(4096,activation='relu'),\n",
        "  keras.layers.Dropout(0.5),\n",
        "  keras.layers.Dense(10,activation='softmax')  \n",
        "\n",
        "])"
      ]
    },
    {
      "cell_type": "code",
      "execution_count": 19,
      "metadata": {
        "colab": {
          "base_uri": "https://localhost:8080/"
        },
        "id": "PXYtvqL-3P1C",
        "outputId": "a292d2b6-f6ca-41a8-b4b5-4ce18e7f1cd5"
      },
      "outputs": [
        {
          "output_type": "stream",
          "name": "stdout",
          "text": [
            "Model: \"sequential\"\n",
            "_________________________________________________________________\n",
            " Layer (type)                Output Shape              Param #   \n",
            "=================================================================\n",
            " conv2d (Conv2D)             (None, 62, 62, 96)        34944     \n",
            "                                                                 \n",
            " batch_normalization (BatchN  (None, 62, 62, 96)       384       \n",
            " ormalization)                                                   \n",
            "                                                                 \n",
            " max_pooling2d (MaxPooling2D  (None, 30, 30, 96)       0         \n",
            " )                                                               \n",
            "                                                                 \n",
            " conv2d_1 (Conv2D)           (None, 30, 30, 256)       614656    \n",
            "                                                                 \n",
            " batch_normalization_1 (Batc  (None, 30, 30, 256)      1024      \n",
            " hNormalization)                                                 \n",
            "                                                                 \n",
            " max_pooling2d_1 (MaxPooling  (None, 14, 14, 256)      0         \n",
            " 2D)                                                             \n",
            "                                                                 \n",
            " conv2d_2 (Conv2D)           (None, 14, 14, 384)       885120    \n",
            "                                                                 \n",
            " batch_normalization_2 (Batc  (None, 14, 14, 384)      1536      \n",
            " hNormalization)                                                 \n",
            "                                                                 \n",
            " conv2d_3 (Conv2D)           (None, 14, 14, 384)       1327488   \n",
            "                                                                 \n",
            " batch_normalization_3 (Batc  (None, 14, 14, 384)      1536      \n",
            " hNormalization)                                                 \n",
            "                                                                 \n",
            " conv2d_4 (Conv2D)           (None, 14, 14, 256)       884992    \n",
            "                                                                 \n",
            " batch_normalization_4 (Batc  (None, 14, 14, 256)      1024      \n",
            " hNormalization)                                                 \n",
            "                                                                 \n",
            " max_pooling2d_2 (MaxPooling  (None, 6, 6, 256)        0         \n",
            " 2D)                                                             \n",
            "                                                                 \n",
            " flatten (Flatten)           (None, 9216)              0         \n",
            "                                                                 \n",
            " dense (Dense)               (None, 4096)              37752832  \n",
            "                                                                 \n",
            " dropout (Dropout)           (None, 4096)              0         \n",
            "                                                                 \n",
            " dense_1 (Dense)             (None, 4096)              16781312  \n",
            "                                                                 \n",
            " dropout_1 (Dropout)         (None, 4096)              0         \n",
            "                                                                 \n",
            " dense_2 (Dense)             (None, 10)                40970     \n",
            "                                                                 \n",
            "=================================================================\n",
            "Total params: 58,327,818\n",
            "Trainable params: 58,325,066\n",
            "Non-trainable params: 2,752\n",
            "_________________________________________________________________\n"
          ]
        },
        {
          "output_type": "stream",
          "name": "stderr",
          "text": [
            "/usr/local/lib/python3.7/dist-packages/keras/optimizer_v2/gradient_descent.py:102: UserWarning: The `lr` argument is deprecated, use `learning_rate` instead.\n",
            "  super(SGD, self).__init__(name, **kwargs)\n"
          ]
        }
      ],
      "source": [
        "AlexNet_model.compile(\n",
        "    loss='sparse_categorical_crossentropy',\n",
        "    optimizer=tf.optimizers.SGD(lr=0.001),\n",
        "    metrics=['accuracy']    \n",
        ")\n",
        "AlexNet_model.summary()"
      ]
    },
    {
      "cell_type": "code",
      "source": [
        "# use callback to find the optimal number of epochs to use\n",
        "earlystopping = EarlyStopping(monitor =\"val_loss\", \n",
        "                                        mode =\"min\", patience = 5, \n",
        "                                        restore_best_weights = True)"
      ],
      "metadata": {
        "id": "EKk6yF92lTTc"
      },
      "execution_count": 20,
      "outputs": []
    },
    {
      "cell_type": "code",
      "execution_count": 21,
      "metadata": {
        "colab": {
          "base_uri": "https://localhost:8080/"
        },
        "id": "pI8Qb_zW3aq_",
        "outputId": "0c91166f-af27-4507-b865-308a35fb389c"
      },
      "outputs": [
        {
          "output_type": "stream",
          "name": "stdout",
          "text": [
            "Epoch 1/70\n",
            "400/400 [==============================] - 30s 47ms/step - loss: 1.6582 - accuracy: 0.5262 - val_loss: 1.0380 - val_accuracy: 0.6253\n",
            "Epoch 2/70\n",
            "400/400 [==============================] - 32s 61ms/step - loss: 0.8235 - accuracy: 0.7261 - val_loss: 0.4766 - val_accuracy: 0.8319\n",
            "Epoch 3/70\n",
            "400/400 [==============================] - 34s 66ms/step - loss: 0.6299 - accuracy: 0.7779 - val_loss: 0.3772 - val_accuracy: 0.8700\n",
            "Epoch 4/70\n",
            "400/400 [==============================] - 34s 66ms/step - loss: 0.5323 - accuracy: 0.8134 - val_loss: 0.3492 - val_accuracy: 0.8788\n",
            "Epoch 5/70\n",
            "400/400 [==============================] - 33s 64ms/step - loss: 0.4376 - accuracy: 0.8466 - val_loss: 0.2914 - val_accuracy: 0.9025\n",
            "Epoch 6/70\n",
            "400/400 [==============================] - 33s 65ms/step - loss: 0.3849 - accuracy: 0.8634 - val_loss: 0.2878 - val_accuracy: 0.8956\n",
            "Epoch 7/70\n",
            "400/400 [==============================] - 34s 66ms/step - loss: 0.3515 - accuracy: 0.8803 - val_loss: 0.2570 - val_accuracy: 0.9100\n",
            "Epoch 8/70\n",
            "400/400 [==============================] - 34s 65ms/step - loss: 0.2987 - accuracy: 0.8952 - val_loss: 0.2539 - val_accuracy: 0.9116\n",
            "Epoch 9/70\n",
            "400/400 [==============================] - 34s 65ms/step - loss: 0.2676 - accuracy: 0.9089 - val_loss: 0.2062 - val_accuracy: 0.9256\n",
            "Epoch 10/70\n",
            "400/400 [==============================] - 33s 65ms/step - loss: 0.2397 - accuracy: 0.9155 - val_loss: 0.1958 - val_accuracy: 0.9334\n",
            "Epoch 11/70\n",
            "400/400 [==============================] - 34s 66ms/step - loss: 0.2190 - accuracy: 0.9241 - val_loss: 0.1951 - val_accuracy: 0.9319\n",
            "Epoch 12/70\n",
            "400/400 [==============================] - 34s 67ms/step - loss: 0.1945 - accuracy: 0.9348 - val_loss: 0.1956 - val_accuracy: 0.9337\n",
            "Epoch 13/70\n",
            "400/400 [==============================] - 35s 68ms/step - loss: 0.1795 - accuracy: 0.9399 - val_loss: 0.1922 - val_accuracy: 0.9337\n",
            "Epoch 14/70\n",
            "400/400 [==============================] - 36s 70ms/step - loss: 0.1667 - accuracy: 0.9420 - val_loss: 0.1659 - val_accuracy: 0.9434\n",
            "Epoch 15/70\n",
            "400/400 [==============================] - 36s 70ms/step - loss: 0.1535 - accuracy: 0.9480 - val_loss: 0.1576 - val_accuracy: 0.9472\n",
            "Epoch 16/70\n",
            "400/400 [==============================] - 36s 70ms/step - loss: 0.1361 - accuracy: 0.9527 - val_loss: 0.1593 - val_accuracy: 0.9463\n",
            "Epoch 17/70\n",
            "400/400 [==============================] - 35s 67ms/step - loss: 0.1213 - accuracy: 0.9582 - val_loss: 0.1618 - val_accuracy: 0.9469\n",
            "Epoch 18/70\n",
            "400/400 [==============================] - 36s 70ms/step - loss: 0.1186 - accuracy: 0.9606 - val_loss: 0.2058 - val_accuracy: 0.9294\n",
            "Epoch 19/70\n",
            "400/400 [==============================] - 38s 74ms/step - loss: 0.1139 - accuracy: 0.9610 - val_loss: 0.1536 - val_accuracy: 0.9488\n",
            "Epoch 20/70\n",
            "400/400 [==============================] - 39s 74ms/step - loss: 0.1007 - accuracy: 0.9645 - val_loss: 0.1285 - val_accuracy: 0.9553\n",
            "Epoch 21/70\n",
            "400/400 [==============================] - 38s 73ms/step - loss: 0.0873 - accuracy: 0.9686 - val_loss: 0.1256 - val_accuracy: 0.9578\n",
            "Epoch 22/70\n",
            "400/400 [==============================] - 38s 73ms/step - loss: 0.0892 - accuracy: 0.9695 - val_loss: 0.1303 - val_accuracy: 0.9538\n",
            "Epoch 23/70\n",
            "400/400 [==============================] - 38s 72ms/step - loss: 0.0767 - accuracy: 0.9757 - val_loss: 0.1340 - val_accuracy: 0.9559\n",
            "Epoch 24/70\n",
            "400/400 [==============================] - 38s 74ms/step - loss: 0.0724 - accuracy: 0.9762 - val_loss: 0.1157 - val_accuracy: 0.9622\n",
            "Epoch 25/70\n",
            "400/400 [==============================] - 37s 72ms/step - loss: 0.0673 - accuracy: 0.9779 - val_loss: 0.1426 - val_accuracy: 0.9494\n",
            "Epoch 26/70\n",
            "400/400 [==============================] - 38s 74ms/step - loss: 0.0595 - accuracy: 0.9793 - val_loss: 0.1143 - val_accuracy: 0.9609\n",
            "Epoch 27/70\n",
            "400/400 [==============================] - 38s 74ms/step - loss: 0.0605 - accuracy: 0.9818 - val_loss: 0.1160 - val_accuracy: 0.9622\n",
            "Epoch 28/70\n",
            "400/400 [==============================] - 39s 74ms/step - loss: 0.0540 - accuracy: 0.9825 - val_loss: 0.1037 - val_accuracy: 0.9663\n",
            "Epoch 29/70\n",
            "400/400 [==============================] - 37s 71ms/step - loss: 0.0571 - accuracy: 0.9813 - val_loss: 0.1242 - val_accuracy: 0.9591\n",
            "Epoch 30/70\n",
            "400/400 [==============================] - 38s 73ms/step - loss: 0.0485 - accuracy: 0.9841 - val_loss: 0.1034 - val_accuracy: 0.9638\n",
            "Epoch 31/70\n",
            "400/400 [==============================] - 38s 72ms/step - loss: 0.0427 - accuracy: 0.9862 - val_loss: 0.1346 - val_accuracy: 0.9556\n",
            "Epoch 32/70\n",
            "400/400 [==============================] - 38s 73ms/step - loss: 0.0396 - accuracy: 0.9866 - val_loss: 0.1004 - val_accuracy: 0.9694\n",
            "Epoch 33/70\n",
            "400/400 [==============================] - 39s 75ms/step - loss: 0.0402 - accuracy: 0.9878 - val_loss: 0.1150 - val_accuracy: 0.9647\n",
            "Epoch 34/70\n",
            "400/400 [==============================] - 39s 75ms/step - loss: 0.0402 - accuracy: 0.9869 - val_loss: 0.1057 - val_accuracy: 0.9666\n",
            "Epoch 35/70\n",
            "400/400 [==============================] - 37s 73ms/step - loss: 0.0339 - accuracy: 0.9889 - val_loss: 0.1218 - val_accuracy: 0.9613\n",
            "Epoch 36/70\n",
            "400/400 [==============================] - 38s 74ms/step - loss: 0.0345 - accuracy: 0.9903 - val_loss: 0.1190 - val_accuracy: 0.9594\n",
            "Epoch 37/70\n",
            "400/400 [==============================] - 37s 72ms/step - loss: 0.0335 - accuracy: 0.9895 - val_loss: 0.1050 - val_accuracy: 0.9681\n",
            "Test accuracy Score =  0.9693750143051147\n"
          ]
        }
      ],
      "source": [
        "# validation accuracy here is test accuracy\n",
        "\n",
        "history = AlexNet_model.fit(\n",
        "    train_ds,\n",
        "    epochs = 70,\n",
        "    validation_data = test_ds,\n",
        "    validation_freq = 1,\n",
        "    callbacks =[earlystopping]\n",
        ")\n",
        "\n",
        "print('Test accuracy Score = ',np.max(history.history['val_accuracy']))"
      ]
    },
    {
      "cell_type": "code",
      "source": [
        "AlexNet_model.history.history.keys()"
      ],
      "metadata": {
        "colab": {
          "base_uri": "https://localhost:8080/"
        },
        "id": "uWToOVGP8k25",
        "outputId": "57b44861-ba2f-42a4-fb8d-2d43e956cd01"
      },
      "execution_count": 22,
      "outputs": [
        {
          "output_type": "execute_result",
          "data": {
            "text/plain": [
              "dict_keys(['loss', 'accuracy', 'val_loss', 'val_accuracy'])"
            ]
          },
          "metadata": {},
          "execution_count": 22
        }
      ]
    },
    {
      "cell_type": "code",
      "source": [
        "f,ax=plt.subplots(2,1,figsize=(10,10)) \n",
        "\n",
        "#Assigning the first subplot to graph training loss and validation loss\n",
        "ax[0].plot(AlexNet_model.history.history['loss'],color='b',label='Training Loss')\n",
        "ax[0].plot(AlexNet_model.history.history['val_loss'],color='r',label='Validation Loss')\n",
        "ax[0].title.set_text('Loss')\n",
        "\n",
        "#Plotting the training accuracy and validation accuracy\n",
        "ax[1].plot(AlexNet_model.history.history['accuracy'],color='b',label='Training  Accuracy')\n",
        "ax[1].plot(AlexNet_model.history.history['val_accuracy'],color='r',label='Validation Accuracy')\n",
        "ax[1].title.set_text('Accuracy')\n",
        "\n",
        "ax[0].legend()\n",
        "ax[1].legend()\n"
      ],
      "metadata": {
        "colab": {
          "base_uri": "https://localhost:8080/",
          "height": 625
        },
        "id": "bJ7I4M1I8sE7",
        "outputId": "3b26e9cb-24cf-452b-8e4b-937d6bb4ec3e"
      },
      "execution_count": 23,
      "outputs": [
        {
          "output_type": "execute_result",
          "data": {
            "text/plain": [
              "<matplotlib.legend.Legend at 0x7f741420ba10>"
            ]
          },
          "metadata": {},
          "execution_count": 23
        },
        {
          "output_type": "display_data",
          "data": {
            "text/plain": [
              "<Figure size 720x720 with 2 Axes>"
            ],
            "image/png": "[encoded data removed]"
          },
          "metadata": {
            "needs_background": "light"
          }
        }
      ]
    },
    {
      "cell_type": "code",
      "source": [
        "print('Accuracy Score = ',np.max(history.history['val_accuracy']))"
      ],
      "metadata": {
        "colab": {
          "base_uri": "https://localhost:8080/"
        },
        "id": "TvtCyO4z9G1V",
        "outputId": "28458900-4204-4ff9-b85e-b574cd4b9ede"
      },
      "execution_count": 24,
      "outputs": [
        {
          "output_type": "stream",
          "name": "stdout",
          "text": [
            "Accuracy Score =  0.9693750143051147\n"
          ]
        }
      ]
    },
    {
      "cell_type": "code",
      "execution_count": 25,
      "metadata": {
        "colab": {
          "base_uri": "https://localhost:8080/"
        },
        "id": "cn4UN_mqRaR1",
        "outputId": "9dd63908-c755-439d-d421-39c73609afe6"
      },
      "outputs": [
        {
          "output_type": "stream",
          "name": "stdout",
          "text": [
            "INFO:tensorflow:Assets written to: /content/drive/Shareddrives/Anoushka && Ivy/Senior Design 2021_2022_Ivy and Anoushka/Trained Models/Tomato 10 Classes AlexNet/assets\n"
          ]
        }
      ],
      "source": [
        "# testing saving trained model \n",
        "base_save_path = '/content/drive/Shareddrives/Anoushka && Ivy/Senior Design 2021_2022_Ivy and Anoushka/Trained Models/'\n",
        "save_path = base_save_path+'Tomato 10 Classes AlexNet/'\n",
        "AlexNet_model.save(save_path)"
      ]
    },
    {
      "cell_type": "code",
      "execution_count": 26,
      "metadata": {
        "id": "GtKEH_9CR9Rh"
      },
      "outputs": [],
      "source": [
        "# # testing loading model\n",
        "# model = keras.models.load_model(save_path)"
      ]
    },
    {
      "cell_type": "code",
      "execution_count": 27,
      "metadata": {
        "id": "5j-FDuPTv86p"
      },
      "outputs": [],
      "source": [
        "# # checking image at index 3. The :4 is to add another dimension\n",
        "# # to fit the 4-dimension requirement\n",
        "# i = 1\n",
        "# img = tf.image.resize(x_test[i:i+1],(64,64))\n",
        "# y_pred = AlexNet_model.predict(img)[0]\n",
        "# y_pred"
      ]
    },
    {
      "cell_type": "code",
      "execution_count": 28,
      "metadata": {
        "id": "K6wJUu1Mv_xM"
      },
      "outputs": [],
      "source": [
        "# prediction = y_pred.argmax()\n",
        "# actual = y_test[i].argmax()\n",
        "\n",
        "# print('Prediction:', classes[prediction])\n",
        "# print('Actual:', classes[actual])"
      ]
    },
    {
      "cell_type": "code",
      "execution_count": 29,
      "metadata": {
        "id": "mTN93DfUwBzG"
      },
      "outputs": [],
      "source": [
        "# plt.imshow(x_test[3])\n",
        "# plt.show()"
      ]
    }
  ],
  "metadata": {
    "accelerator": "GPU",
    "colab": {
      "collapsed_sections": [],
      "machine_shape": "hm",
      "name": "Copy of AlexNet_10_classes.ipynb",
      "provenance": [],
      "include_colab_link": true
    },
    "kernelspec": {
      "display_name": "Python 3",
      "name": "python3"
    },
    "language_info": {
      "name": "python"
    }
  },
  "nbformat": 4,
  "nbformat_minor": 0
}